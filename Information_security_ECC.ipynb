{
  "nbformat": 4,
  "nbformat_minor": 0,
  "metadata": {
    "colab": {
      "provenance": [],
      "authorship_tag": "ABX9TyPwZB8ewJYLN9/zvNpJoeTn",
      "include_colab_link": true
    },
    "kernelspec": {
      "name": "python3",
      "display_name": "Python 3"
    },
    "language_info": {
      "name": "python"
    }
  },
  "cells": [
    {
      "cell_type": "markdown",
      "metadata": {
        "id": "view-in-github",
        "colab_type": "text"
      },
      "source": [
        "<a href=\"https://colab.research.google.com/github/sagarikakaramadi/Information_Security/blob/main/Information_security_ECC.ipynb\" target=\"_parent\"><img src=\"https://colab.research.google.com/assets/colab-badge.svg\" alt=\"Open In Colab\"/></a>"
      ]
    },
    {
      "cell_type": "code",
      "source": [
        "pip install cryptography\n"
      ],
      "metadata": {
        "colab": {
          "base_uri": "https://localhost:8080/"
        },
        "id": "w-HGu2vZ61vf",
        "outputId": "1dfe4eef-ec91-4988-e322-4cc96ee4c829"
      },
      "execution_count": null,
      "outputs": [
        {
          "output_type": "stream",
          "name": "stdout",
          "text": [
            "Requirement already satisfied: cryptography in /usr/local/lib/python3.10/dist-packages (43.0.3)\n",
            "Requirement already satisfied: cffi>=1.12 in /usr/local/lib/python3.10/dist-packages (from cryptography) (1.17.1)\n",
            "Requirement already satisfied: pycparser in /usr/local/lib/python3.10/dist-packages (from cffi>=1.12->cryptography) (2.22)\n"
          ]
        }
      ]
    },
    {
      "cell_type": "code",
      "source": [
        "\n",
        "from cryptography.hazmat.backends import default_backend\n",
        "from cryptography.hazmat.primitives.asymmetric import ec\n",
        "from cryptography.hazmat.primitives import hashes\n",
        "from cryptography.hazmat.primitives.kdf.hkdf import HKDF\n",
        "from cryptography.hazmat.primitives import serialization\n",
        "from cryptography.hazmat.primitives.ciphers import Cipher, algorithms, modes\n",
        "import os\n",
        "\n",
        "#  ECC private-public key pair\n",
        "def generate_keys():\n",
        "    private_key = ec.generate_private_key(ec.SECP256R1(), default_backend())\n",
        "    public_key = private_key.public_key()\n",
        "    return private_key, public_key\n",
        "\n",
        "# derive shared secret\n",
        "def derive_shared_key(private_key, recipient_public_key):\n",
        "    shared_key = private_key.exchange(ec.ECDH(), recipient_public_key)\n",
        "    derived_key = HKDF(\n",
        "        algorithm=hashes.SHA256(),\n",
        "        length=32,\n",
        "        salt=None,\n",
        "        info=b\"handshake data\",\n",
        "        backend=default_backend()\n",
        "    ).derive(shared_key)\n",
        "    return derived_key\n",
        "\n",
        "def encrypt_message(derived_key, plaintext):\n",
        "    iv = os.urandom(12)\n",
        "    aesgcm = Cipher(algorithms.AES(derived_key), modes.GCM(iv), backend=default_backend()).encryptor()\n",
        "    ciphertext = aesgcm.update(plaintext) + aesgcm.finalize()\n",
        "    return iv, ciphertext, aesgcm.tag\n",
        "\n",
        "def decrypt_message(derived_key, iv, ciphertext, tag):\n",
        "    aesgcm = Cipher(algorithms.AES(derived_key), modes.GCM(iv, tag), backend=default_backend()).decryptor()\n",
        "    plaintext = aesgcm.update(ciphertext) + aesgcm.finalize()\n",
        "    return plaintext\n",
        "\n",
        "if __name__ == \"__main__\":\n",
        "    sender_private_key, sender_public_key = generate_keys()\n",
        "    recipient_private_key, recipient_public_key = generate_keys()\n",
        "\n",
        "    recipient_public_key_bytes = recipient_public_key.public_bytes(\n",
        "        encoding=serialization.Encoding.PEM,\n",
        "        format=serialization.PublicFormat.SubjectPublicKeyInfo\n",
        "    )\n",
        "\n",
        "    print(f\"Recipient Public Key: {recipient_public_key_bytes.decode()}\")\n",
        "\n",
        "    shared_secret_sender = derive_shared_key(sender_private_key, recipient_public_key)\n",
        "    shared_secret_recipient = derive_shared_key(recipient_private_key, sender_public_key)\n",
        "\n",
        "    print(f\"Sender's Derived Key: {shared_secret_sender}\")\n",
        "    print(f\"Recipient's Derived Key: {shared_secret_recipient}\")\n",
        "\n",
        "    assert shared_secret_sender == shared_secret_recipient, \"Shared secrets do not match!\"\n",
        "\n",
        "    # to be encrypted\n",
        "    message = b\"Secret message for ECC encryption!\"\n",
        "\n",
        "    # Sender encrypts\n",
        "    iv, ciphertext, tag = encrypt_message(shared_secret_sender, message)\n",
        "    print(f\"Ciphertext: {ciphertext}\")\n",
        " # Verify\n",
        "    assert message == decrypted_message, \"Decryption failed, messages do not match!\"\n",
        "\n",
        "    print(\"Encryption and decryption successful, messages match.\")\n",
        "    # Recipient decrypts\n",
        "    decrypted_message = decrypt_message(shared_secret_recipient, iv, ciphertext, tag)\n",
        "    print(f\"Decrypted Message: {decrypted_message.decode()}\")\n",
        "\n",
        "\n",
        "\n",
        "\n"
      ],
      "metadata": {
        "colab": {
          "base_uri": "https://localhost:8080/"
        },
        "id": "FzoLxbWABbef",
        "outputId": "97269e3a-10a4-4cb3-c761-98778aa982f8"
      },
      "execution_count": null,
      "outputs": [
        {
          "output_type": "stream",
          "name": "stdout",
          "text": [
            "Recipient Public Key: -----BEGIN PUBLIC KEY-----\n",
            "MFkwEwYHKoZIzj0CAQYIKoZIzj0DAQcDQgAED2SmI+j/pS6Jc2SjwLmPUTJulU6k\n",
            "q53Wbp5RS83dpQso2vsnVxuk8OHqbb29wvmxpgdOrgoC9AGmfaip2NaXLA==\n",
            "-----END PUBLIC KEY-----\n",
            "\n",
            "Sender's Derived Key: b'x%\\x9e\\xbcJ8\\xc0\\rD\\x03\\x87~\\xf0\\x92=[k\\x1dH\\x8f\\x18\\x80\\x01\\xc4s\\x83U\\xdf*\\xf9\\xe2\\xb7'\n",
            "Recipient's Derived Key: b'x%\\x9e\\xbcJ8\\xc0\\rD\\x03\\x87~\\xf0\\x92=[k\\x1dH\\x8f\\x18\\x80\\x01\\xc4s\\x83U\\xdf*\\xf9\\xe2\\xb7'\n",
            "Ciphertext: b'\\x16\\xb4in\\xb7iRo\\x9ao(\\x06\\xf6B\\x81\\x0f\\x9d\\x84\\xe83\\x12\\xe5\\x85{]\\xb38\\xe1\\x89\\xad]\\xd0\\x93B'\n",
            "Encryption and decryption successful, messages match.\n",
            "Decrypted Message: Secret message for ECC encryption!\n"
          ]
        }
      ]
    }
  ]
}